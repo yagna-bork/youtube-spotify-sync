{
 "cells": [
  {
   "cell_type": "code",
   "execution_count": 35,
   "metadata": {},
   "outputs": [],
   "source": [
    "import datetime\n",
    "from pprint import pprint as ppr"
   ]
  },
  {
   "cell_type": "code",
   "execution_count": 6,
   "metadata": {},
   "outputs": [
    {
     "ename": "NameError",
     "evalue": "name 'datetime' is not defined",
     "output_type": "error",
     "traceback": [
      "\u001b[0;31m---------------------------------------------------------------------------\u001b[0m",
      "\u001b[0;31mNameError\u001b[0m                                 Traceback (most recent call last)",
      "\u001b[0;32m<ipython-input-6-3e4b764c2bad>\u001b[0m in \u001b[0;36m<module>\u001b[0;34m\u001b[0m\n\u001b[0;32m----> 1\u001b[0;31m \u001b[0mdt\u001b[0m \u001b[0;34m=\u001b[0m \u001b[0mdatetime\u001b[0m\u001b[0;34m.\u001b[0m\u001b[0mdatetime\u001b[0m\u001b[0;34m(\u001b[0m\u001b[0;36m2021\u001b[0m\u001b[0;34m,\u001b[0m \u001b[0;36m2\u001b[0m\u001b[0;34m,\u001b[0m \u001b[0;36m22\u001b[0m\u001b[0;34m)\u001b[0m\u001b[0;34m\u001b[0m\u001b[0;34m\u001b[0m\u001b[0m\n\u001b[0m\u001b[1;32m      2\u001b[0m \u001b[0mstr_dt\u001b[0m \u001b[0;34m=\u001b[0m \u001b[0mdt\u001b[0m\u001b[0;34m.\u001b[0m\u001b[0mstrftime\u001b[0m\u001b[0;34m(\u001b[0m\u001b[0;34m\"%Y-%m-%d %H:%M:%S.%f\"\u001b[0m\u001b[0;34m)\u001b[0m\u001b[0;34m\u001b[0m\u001b[0;34m\u001b[0m\u001b[0m\n\u001b[1;32m      3\u001b[0m \u001b[0mdt_dt\u001b[0m \u001b[0;34m=\u001b[0m \u001b[0mdatetime\u001b[0m\u001b[0;34m.\u001b[0m\u001b[0mdatetime\u001b[0m\u001b[0;34m.\u001b[0m\u001b[0mstrptime\u001b[0m\u001b[0;34m(\u001b[0m\u001b[0mstr_dt\u001b[0m\u001b[0;34m,\u001b[0m \u001b[0;34m\"%Y-%m-%d %H:%M:%S.%f\"\u001b[0m\u001b[0;34m)\u001b[0m\u001b[0;34m\u001b[0m\u001b[0;34m\u001b[0m\u001b[0m\n\u001b[1;32m      4\u001b[0m \u001b[0mprint\u001b[0m\u001b[0;34m(\u001b[0m\u001b[0mstr_dt\u001b[0m\u001b[0;34m,\u001b[0m \u001b[0mdt_dt\u001b[0m\u001b[0;34m)\u001b[0m\u001b[0;34m\u001b[0m\u001b[0;34m\u001b[0m\u001b[0m\n",
      "\u001b[0;31mNameError\u001b[0m: name 'datetime' is not defined"
     ]
    }
   ],
   "source": [
    "dt = datetime.datetime(2021, 2, 22)\n",
    "str_dt = dt.strftime(\"%Y-%m-%d %H:%M:%S.%f\")\n",
    "dt_dt = datetime.datetime.strptime(str_dt, \"%Y-%m-%d %H:%M:%S.%f\")\n",
    "print(str_dt, dt_dt)"
   ]
  },
  {
   "cell_type": "code",
   "execution_count": 2,
   "metadata": {},
   "outputs": [],
   "source": [
    "from aiogoogle import Aiogoogle\n",
    "import asyncio\n",
    "\n",
    "async def youtube_api():\n",
    "    async with Aiogoogle() as aiogoogle:\n",
    "        return await aiogoogle.discover(\"youtube\", \"v3\")\n",
    "\n",
    "youtube_api = await youtube_api()"
   ]
  },
  {
   "cell_type": "code",
   "execution_count": 20,
   "metadata": {},
   "outputs": [
    {
     "data": {
      "text/plain": [
       "dict_keys(['liveBroadcasts', 'abuseReports', 'playlistItems', 'liveChatMessages', 'videos', 'channels', 'search', 'captions', 'channelSections', 'membershipsLevels', 'i18nLanguages', 'activities', 'videoCategories', 'videoAbuseReportReasons', 'commentThreads', 'thumbnails', 'superChatEvents', 'channelBanners', 'tests', 'watermarks', 'comments', 'members', 'liveChatBans', 'subscriptions', 'thirdPartyLinks', 'liveStreams', 'playlists', 'liveChatModerators', 'i18nRegions'])"
      ]
     },
     "execution_count": 20,
     "metadata": {},
     "output_type": "execute_result"
    }
   ],
   "source": [
    "youtube_api['resources'].keys()"
   ]
  },
  {
   "cell_type": "code",
   "execution_count": 22,
   "metadata": {},
   "outputs": [],
   "source": [
    "# youtube_api.playlistItems.methods_available\n",
    "list_playlist = youtube_api.playlistItems.list"
   ]
  },
  {
   "cell_type": "code",
   "execution_count": 36,
   "metadata": {
    "collapsed": true
   },
   "outputs": [
    {
     "name": "stdout",
     "output_type": "stream",
     "text": [
      "{'$.xgafv': {'description': 'V1 error format.',\n",
      "             'enum': ['1', '2'],\n",
      "             'enumDescriptions': ['v1 error format', 'v2 error format'],\n",
      "             'location': 'query',\n",
      "             'type': 'string'},\n",
      " 'access_token': {'description': 'OAuth access token.',\n",
      "                  'location': 'query',\n",
      "                  'type': 'string'},\n",
      " 'alt': {'default': 'json',\n",
      "         'description': 'Data format for response.',\n",
      "         'enum': ['json', 'media', 'proto'],\n",
      "         'enumDescriptions': ['Responses with Content-Type of application/json',\n",
      "                              'Media download with context-dependent '\n",
      "                              'Content-Type',\n",
      "                              'Responses with Content-Type of '\n",
      "                              'application/x-protobuf'],\n",
      "         'location': 'query',\n",
      "         'type': 'string'},\n",
      " 'callback': {'description': 'JSONP', 'location': 'query', 'type': 'string'},\n",
      " 'fields': {'description': 'Selector specifying which fields to include in a '\n",
      "                           'partial response.',\n",
      "            'location': 'query',\n",
      "            'type': 'string'},\n",
      " 'id': {'location': 'query', 'repeated': True, 'type': 'string'},\n",
      " 'key': {'description': 'API key. Your API key identifies your project and '\n",
      "                        'provides you with API access, quota, and reports. '\n",
      "                        'Required unless you provide an OAuth 2.0 token.',\n",
      "         'location': 'query',\n",
      "         'type': 'string'},\n",
      " 'maxResults': {'default': '5',\n",
      "                'description': 'The *maxResults* parameter specifies the '\n",
      "                               'maximum number of items that should be '\n",
      "                               'returned in the result set.',\n",
      "                'format': 'uint32',\n",
      "                'location': 'query',\n",
      "                'maximum': '50',\n",
      "                'minimum': '0',\n",
      "                'type': 'integer'},\n",
      " 'oauth_token': {'description': 'OAuth 2.0 token for the current user.',\n",
      "                 'location': 'query',\n",
      "                 'type': 'string'},\n",
      " 'onBehalfOfContentOwner': {'description': '*Note:* This parameter is intended '\n",
      "                                           'exclusively for YouTube content '\n",
      "                                           'partners. The '\n",
      "                                           '*onBehalfOfContentOwner* parameter '\n",
      "                                           \"indicates that the request's \"\n",
      "                                           'authorization credentials identify '\n",
      "                                           'a YouTube CMS user who is acting '\n",
      "                                           'on behalf of the content owner '\n",
      "                                           'specified in the parameter value. '\n",
      "                                           'This parameter is intended for '\n",
      "                                           'YouTube content partners that own '\n",
      "                                           'and manage many different YouTube '\n",
      "                                           'channels. It allows content owners '\n",
      "                                           'to authenticate once and get '\n",
      "                                           'access to all their video and '\n",
      "                                           'channel data, without having to '\n",
      "                                           'provide authentication credentials '\n",
      "                                           'for each individual channel. The '\n",
      "                                           'CMS account that the user '\n",
      "                                           'authenticates with must be linked '\n",
      "                                           'to the specified YouTube content '\n",
      "                                           'owner.',\n",
      "                            'location': 'query',\n",
      "                            'type': 'string'},\n",
      " 'pageToken': {'description': 'The *pageToken* parameter identifies a specific '\n",
      "                              'page in the result set that should be returned. '\n",
      "                              'In an API response, the nextPageToken and '\n",
      "                              'prevPageToken properties identify other pages '\n",
      "                              'that could be retrieved.',\n",
      "               'location': 'query',\n",
      "               'type': 'string'},\n",
      " 'part': {'description': 'The *part* parameter specifies a comma-separated '\n",
      "                         'list of one or more playlistItem resource properties '\n",
      "                         'that the API response will include. If the parameter '\n",
      "                         'identifies a property that contains child '\n",
      "                         'properties, the child properties will be included in '\n",
      "                         'the response. For example, in a playlistItem '\n",
      "                         'resource, the snippet property contains numerous '\n",
      "                         'fields, including the title, description, position, '\n",
      "                         'and resourceId properties. As such, if you set '\n",
      "                         '*part=snippet*, the API response will contain all of '\n",
      "                         'those properties.',\n",
      "          'location': 'query',\n",
      "          'repeated': True,\n",
      "          'required': True,\n",
      "          'type': 'string'},\n",
      " 'playlistId': {'description': 'Return the playlist items within the given '\n",
      "                               'playlist.',\n",
      "                'location': 'query',\n",
      "                'type': 'string'},\n",
      " 'pp': {'location': 'query', 'type': 'string'},\n",
      " 'prettyPrint': {'default': 'true',\n",
      "                 'description': 'Returns response with indentations and line '\n",
      "                                'breaks.',\n",
      "                 'location': 'query',\n",
      "                 'type': 'boolean'},\n",
      " 'quotaUser': {'description': 'Available to use for quota purposes for '\n",
      "                              'server-side applications. Can be any arbitrary '\n",
      "                              'string assigned to a user, but should not '\n",
      "                              'exceed 40 characters.',\n",
      "               'location': 'query',\n",
      "               'type': 'string'},\n",
      " 'strict': {'location': 'query', 'type': 'string'},\n",
      " 'trace': {'location': 'query', 'type': 'string'},\n",
      " 'uploadType': {'description': 'Legacy upload protocol for media (e.g. '\n",
      "                               '\"media\", \"multipart\").',\n",
      "                'location': 'query',\n",
      "                'type': 'string'},\n",
      " 'upload_protocol': {'description': 'Upload protocol for media (e.g. \"raw\", '\n",
      "                                    '\"multipart\").',\n",
      "                     'location': 'query',\n",
      "                     'type': 'string'},\n",
      " 'videoId': {'description': 'Return the playlist items associated with the '\n",
      "                            'given video ID.',\n",
      "             'location': 'query',\n",
      "             'type': 'string'}}\n"
     ]
    }
   ],
   "source": [
    "ppr(list_playlist.parameters)"
   ]
  },
  {
   "cell_type": "code",
   "execution_count": 37,
   "metadata": {},
   "outputs": [],
   "source": [
    "async def dispatcher():\n",
    "    credentials = None # _do_google_auth_flow()\n",
    "    async with Aiogoogle(user_creds=credentials) as aiogoogle:\n",
    "        request = yield aiogoogle.discover(\"youtube\", \"v3\")\n",
    "        try:\n",
    "            yield await aiogoogle.as_user(request)\n",
    "        finally:\n",
    "            # idk\n",
    "            aiogoogle.close()\n",
    "dispatcher.youtube_api = lambda: next(dispatcher)\n",
    "dispatcher.execute = lambda request: dispatcher.send(request)"
   ]
  },
  {
   "cell_type": "code",
   "execution_count": null,
   "metadata": {},
   "outputs": [],
   "source": [
    "dispatcher = dispatcher()\n",
    "youtube_api = dispatched.youtube_api()\n",
    "request = youtube_api.playlistItems.list(ids=[123])\n",
    "async with dispatcher.execute(request) as response:\n",
    "    pprint(response)"
   ]
  },
  {
   "cell_type": "code",
   "execution_count": null,
   "metadata": {},
   "outputs": [],
   "source": [
    "USERS_CREDS = {\"access_token\": \"\"}"
   ]
  },
  {
   "cell_type": "code",
   "execution_count": 62,
   "metadata": {},
   "outputs": [
    {
     "ename": "AttributeError",
     "evalue": "'NoneType' object has no attribute 'full_res'",
     "output_type": "error",
     "traceback": [
      "\u001b[0;31m---------------------------------------------------------------------------\u001b[0m",
      "\u001b[0;31mValidationError\u001b[0m                           Traceback (most recent call last)",
      "\u001b[0;32m<ipython-input-62-c831b74d2ee4>\u001b[0m in \u001b[0;36mget_google_dispatcher\u001b[0;34m()\u001b[0m\n\u001b[1;32m      6\u001b[0m     \u001b[0;32mtry\u001b[0m\u001b[0;34m:\u001b[0m\u001b[0;34m\u001b[0m\u001b[0;34m\u001b[0m\u001b[0m\n\u001b[0;32m----> 7\u001b[0;31m         \u001b[0;32myield\u001b[0m \u001b[0mgdisp\u001b[0m\u001b[0;34m\u001b[0m\u001b[0;34m\u001b[0m\u001b[0m\n\u001b[0m\u001b[1;32m      8\u001b[0m     \u001b[0;32mfinally\u001b[0m\u001b[0;34m:\u001b[0m\u001b[0;34m\u001b[0m\u001b[0;34m\u001b[0m\u001b[0m\n",
      "\u001b[0;32m<ipython-input-62-c831b74d2ee4>\u001b[0m in \u001b[0;36m<module>\u001b[0;34m\u001b[0m\n\u001b[1;32m     36\u001b[0m     \u001b[0myoutube_api\u001b[0m \u001b[0;34m=\u001b[0m \u001b[0;32mawait\u001b[0m \u001b[0mdisp\u001b[0m\u001b[0;34m.\u001b[0m\u001b[0mget_youtube_api\u001b[0m\u001b[0;34m(\u001b[0m\u001b[0;34m)\u001b[0m\u001b[0;34m\u001b[0m\u001b[0;34m\u001b[0m\u001b[0m\n\u001b[0;32m---> 37\u001b[0;31m     request = youtube_api.playlists.list(\n\u001b[0m\u001b[1;32m     38\u001b[0m         \u001b[0mpart\u001b[0m\u001b[0;34m=\u001b[0m\u001b[0;34m\"snippet\"\u001b[0m\u001b[0;34m,\u001b[0m\u001b[0;34m\u001b[0m\u001b[0;34m\u001b[0m\u001b[0m\n",
      "\u001b[0;32m~/programming/automation/ytToSpotify/venv/lib/python3.8/site-packages/aiogoogle/resource.py\u001b[0m in \u001b[0;36mwrapper\u001b[0;34m(self, validate, data, json, upload_file, download_file, timeout, **uri_params)\u001b[0m\n\u001b[1;32m     79\u001b[0m         \u001b[0;31m# Run function\u001b[0m\u001b[0;34m\u001b[0m\u001b[0;34m\u001b[0m\u001b[0;34m\u001b[0m\u001b[0m\n\u001b[0;32m---> 80\u001b[0;31m         results = f(\n\u001b[0m\u001b[1;32m     81\u001b[0m             \u001b[0mself\u001b[0m\u001b[0;34m,\u001b[0m\u001b[0;34m\u001b[0m\u001b[0;34m\u001b[0m\u001b[0m\n",
      "\u001b[0;32m~/programming/automation/ytToSpotify/venv/lib/python3.8/site-packages/aiogoogle/resource.py\u001b[0m in \u001b[0;36m__call__\u001b[0;34m(self, validate, data, json, upload_file, download_file, timeout, **uri_params)\u001b[0m\n\u001b[1;32m    474\u001b[0m                 \u001b[0;32mfor\u001b[0m \u001b[0mparam_name\u001b[0m\u001b[0;34m,\u001b[0m \u001b[0mpassed_param\u001b[0m \u001b[0;32min\u001b[0m \u001b[0mpassed_query_params\u001b[0m\u001b[0;34m.\u001b[0m\u001b[0mitems\u001b[0m\u001b[0;34m(\u001b[0m\u001b[0;34m)\u001b[0m\u001b[0;34m:\u001b[0m\u001b[0;34m\u001b[0m\u001b[0;34m\u001b[0m\u001b[0m\n\u001b[0;32m--> 475\u001b[0;31m                     self._validate(\n\u001b[0m\u001b[1;32m    476\u001b[0m                         \u001b[0mpassed_param\u001b[0m\u001b[0;34m,\u001b[0m\u001b[0;34m\u001b[0m\u001b[0;34m\u001b[0m\u001b[0m\n",
      "\u001b[0;32m~/programming/automation/ytToSpotify/venv/lib/python3.8/site-packages/aiogoogle/resource.py\u001b[0m in \u001b[0;36m_validate\u001b[0;34m(self, instance, schema, schema_name)\u001b[0m\n\u001b[1;32m    379\u001b[0m     \u001b[0;32mdef\u001b[0m \u001b[0m_validate\u001b[0m\u001b[0;34m(\u001b[0m\u001b[0mself\u001b[0m\u001b[0;34m,\u001b[0m \u001b[0minstance\u001b[0m\u001b[0;34m,\u001b[0m \u001b[0mschema\u001b[0m\u001b[0;34m,\u001b[0m \u001b[0mschema_name\u001b[0m\u001b[0;34m=\u001b[0m\u001b[0;32mNone\u001b[0m\u001b[0;34m)\u001b[0m\u001b[0;34m:\u001b[0m\u001b[0;34m\u001b[0m\u001b[0;34m\u001b[0m\u001b[0m\n\u001b[0;32m--> 380\u001b[0;31m         \u001b[0;32mreturn\u001b[0m \u001b[0mvalidate_\u001b[0m\u001b[0;34m(\u001b[0m\u001b[0minstance\u001b[0m\u001b[0;34m,\u001b[0m \u001b[0mschema\u001b[0m\u001b[0;34m,\u001b[0m \u001b[0mself\u001b[0m\u001b[0;34m.\u001b[0m\u001b[0m_schemas\u001b[0m\u001b[0;34m,\u001b[0m \u001b[0mschema_name\u001b[0m\u001b[0;34m)\u001b[0m\u001b[0;34m\u001b[0m\u001b[0;34m\u001b[0m\u001b[0m\n\u001b[0m\u001b[1;32m    381\u001b[0m \u001b[0;34m\u001b[0m\u001b[0m\n",
      "\u001b[0;32m~/programming/automation/ytToSpotify/venv/lib/python3.8/site-packages/aiogoogle/validate.py\u001b[0m in \u001b[0;36mvalidate\u001b[0;34m(instance, schema, schemas, schema_name)\u001b[0m\n\u001b[1;32m    496\u001b[0m     \u001b[0;32melse\u001b[0m\u001b[0;34m:\u001b[0m\u001b[0;34m\u001b[0m\u001b[0;34m\u001b[0m\u001b[0m\n\u001b[0;32m--> 497\u001b[0;31m         \u001b[0mvalidate_all\u001b[0m\u001b[0;34m(\u001b[0m\u001b[0minstance\u001b[0m\u001b[0;34m,\u001b[0m \u001b[0mschema\u001b[0m\u001b[0;34m,\u001b[0m \u001b[0mschema_name\u001b[0m\u001b[0;34m)\u001b[0m\u001b[0;34m\u001b[0m\u001b[0;34m\u001b[0m\u001b[0m\n\u001b[0m",
      "\u001b[0;32m~/programming/automation/ytToSpotify/venv/lib/python3.8/site-packages/aiogoogle/validate.py\u001b[0m in \u001b[0;36mvalidate_all\u001b[0;34m(instance, schema, schema_name)\u001b[0m\n\u001b[1;32m    365\u001b[0m \u001b[0;32mdef\u001b[0m \u001b[0mvalidate_all\u001b[0m\u001b[0;34m(\u001b[0m\u001b[0minstance\u001b[0m\u001b[0;34m,\u001b[0m \u001b[0mschema\u001b[0m\u001b[0;34m,\u001b[0m \u001b[0mschema_name\u001b[0m\u001b[0;34m=\u001b[0m\u001b[0;32mNone\u001b[0m\u001b[0;34m)\u001b[0m\u001b[0;34m:\u001b[0m\u001b[0;34m\u001b[0m\u001b[0;34m\u001b[0m\u001b[0m\n\u001b[0;32m--> 366\u001b[0;31m     \u001b[0mvalidate_type\u001b[0m\u001b[0;34m(\u001b[0m\u001b[0minstance\u001b[0m\u001b[0;34m,\u001b[0m \u001b[0mschema\u001b[0m\u001b[0;34m,\u001b[0m \u001b[0mschema_name\u001b[0m\u001b[0;34m)\u001b[0m\u001b[0;34m\u001b[0m\u001b[0;34m\u001b[0m\u001b[0m\n\u001b[0m\u001b[1;32m    367\u001b[0m     \u001b[0mvalidate_format\u001b[0m\u001b[0;34m(\u001b[0m\u001b[0minstance\u001b[0m\u001b[0;34m,\u001b[0m \u001b[0mschema\u001b[0m\u001b[0;34m,\u001b[0m \u001b[0mschema_name\u001b[0m\u001b[0;34m)\u001b[0m\u001b[0;34m\u001b[0m\u001b[0;34m\u001b[0m\u001b[0m\n",
      "\u001b[0;32m~/programming/automation/ytToSpotify/venv/lib/python3.8/site-packages/aiogoogle/validate.py\u001b[0m in \u001b[0;36mvalidate_type\u001b[0;34m(instance, schema, schema_name)\u001b[0m\n\u001b[1;32m    304\u001b[0m     \u001b[0mtype_validator\u001b[0m \u001b[0;34m=\u001b[0m \u001b[0mglobals\u001b[0m\u001b[0;34m(\u001b[0m\u001b[0;34m)\u001b[0m\u001b[0;34m[\u001b[0m\u001b[0mtype_validator_name\u001b[0m \u001b[0;34m+\u001b[0m \u001b[0;34m\"_validator\"\u001b[0m\u001b[0;34m]\u001b[0m\u001b[0;34m\u001b[0m\u001b[0;34m\u001b[0m\u001b[0m\n\u001b[0;32m--> 305\u001b[0;31m     \u001b[0mtype_validator\u001b[0m\u001b[0;34m(\u001b[0m\u001b[0minstance\u001b[0m\u001b[0;34m,\u001b[0m \u001b[0mschema_name\u001b[0m\u001b[0;34m=\u001b[0m\u001b[0mschema_name\u001b[0m\u001b[0;34m)\u001b[0m\u001b[0;34m\u001b[0m\u001b[0;34m\u001b[0m\u001b[0m\n\u001b[0m\u001b[1;32m    306\u001b[0m \u001b[0;34m\u001b[0m\u001b[0m\n",
      "\u001b[0;32m~/programming/automation/ytToSpotify/venv/lib/python3.8/site-packages/aiogoogle/validate.py\u001b[0m in \u001b[0;36mwrapper\u001b[0;34m(schema_name, *args)\u001b[0m\n\u001b[1;32m     87\u001b[0m         \u001b[0;32mtry\u001b[0m\u001b[0;34m:\u001b[0m\u001b[0;34m\u001b[0m\u001b[0;34m\u001b[0m\u001b[0m\n\u001b[0;32m---> 88\u001b[0;31m             \u001b[0;32mreturn\u001b[0m \u001b[0mfn\u001b[0m\u001b[0;34m(\u001b[0m\u001b[0;34m*\u001b[0m\u001b[0margs\u001b[0m\u001b[0;34m,\u001b[0m \u001b[0mschema_name\u001b[0m\u001b[0;34m=\u001b[0m\u001b[0mschema_name\u001b[0m\u001b[0;34m)\u001b[0m\u001b[0;34m\u001b[0m\u001b[0;34m\u001b[0m\u001b[0m\n\u001b[0m\u001b[1;32m     89\u001b[0m         \u001b[0;32mexcept\u001b[0m \u001b[0;34m(\u001b[0m\u001b[0mValueError\u001b[0m\u001b[0;34m,\u001b[0m \u001b[0mTypeError\u001b[0m\u001b[0;34m)\u001b[0m \u001b[0;32mas\u001b[0m \u001b[0me\u001b[0m\u001b[0;34m:\u001b[0m\u001b[0;34m\u001b[0m\u001b[0;34m\u001b[0m\u001b[0m\n",
      "\u001b[0;32m~/programming/automation/ytToSpotify/venv/lib/python3.8/site-packages/aiogoogle/validate.py\u001b[0m in \u001b[0;36mstring_validator\u001b[0;34m(value, schema_name)\u001b[0m\n\u001b[1;32m    158\u001b[0m     \u001b[0;32mif\u001b[0m \u001b[0;32mnot\u001b[0m \u001b[0misinstance\u001b[0m\u001b[0;34m(\u001b[0m\u001b[0mvalue\u001b[0m\u001b[0;34m,\u001b[0m \u001b[0mreq_types\u001b[0m\u001b[0;34m)\u001b[0m\u001b[0;34m:\u001b[0m\u001b[0;34m\u001b[0m\u001b[0;34m\u001b[0m\u001b[0m\n\u001b[0;32m--> 159\u001b[0;31m         raise ValidationError(\n\u001b[0m\u001b[1;32m    160\u001b[0m             \u001b[0mmake_validation_error_msg\u001b[0m\u001b[0;34m(\u001b[0m\u001b[0mvalue\u001b[0m\u001b[0;34m,\u001b[0m \u001b[0mstr\u001b[0m\u001b[0;34m(\u001b[0m\u001b[0mreq_types\u001b[0m\u001b[0;34m)\u001b[0m\u001b[0;34m,\u001b[0m \u001b[0mschema_name\u001b[0m\u001b[0;34m)\u001b[0m\u001b[0;34m\u001b[0m\u001b[0;34m\u001b[0m\u001b[0m\n",
      "\u001b[0;31mValidationError\u001b[0m: \n\n Invalid instance: \"id\"\n\n[1] isn't valid. Expected a value that meets the following criteria: <class 'str'>",
      "\nDuring handling of the above exception, another exception occurred:\n",
      "\u001b[0;31mAttributeError\u001b[0m                            Traceback (most recent call last)",
      "\u001b[0;32m<ipython-input-62-c831b74d2ee4>\u001b[0m in \u001b[0;36m<module>\u001b[0;34m\u001b[0m\n\u001b[1;32m     42\u001b[0m     \u001b[0mresponse\u001b[0m \u001b[0;34m=\u001b[0m \u001b[0;32mawait\u001b[0m \u001b[0mdispatcher\u001b[0m\u001b[0;34m.\u001b[0m\u001b[0mexecute\u001b[0m\u001b[0;34m(\u001b[0m\u001b[0mrequest\u001b[0m\u001b[0;34m)\u001b[0m\u001b[0;34m\u001b[0m\u001b[0;34m\u001b[0m\u001b[0m\n\u001b[1;32m     43\u001b[0m     \u001b[0;32masync\u001b[0m \u001b[0;32mfor\u001b[0m \u001b[0mpage\u001b[0m \u001b[0;32min\u001b[0m \u001b[0mresponse\u001b[0m\u001b[0;34m:\u001b[0m\u001b[0;34m\u001b[0m\u001b[0;34m\u001b[0m\u001b[0m\n\u001b[0;32m---> 44\u001b[0;31m         \u001b[0mprint\u001b[0m\u001b[0;34m(\u001b[0m\u001b[0mpage\u001b[0m\u001b[0;34m)\u001b[0m\u001b[0;34m\u001b[0m\u001b[0;34m\u001b[0m\u001b[0m\n\u001b[0m",
      "\u001b[0;32m~/.pyenv/versions/3.8.3/lib/python3.8/contextlib.py\u001b[0m in \u001b[0;36m__aexit__\u001b[0;34m(self, typ, value, traceback)\u001b[0m\n\u001b[1;32m    187\u001b[0m             \u001b[0;31m# in this implementation\u001b[0m\u001b[0;34m\u001b[0m\u001b[0;34m\u001b[0m\u001b[0;34m\u001b[0m\u001b[0m\n\u001b[1;32m    188\u001b[0m             \u001b[0;32mtry\u001b[0m\u001b[0;34m:\u001b[0m\u001b[0;34m\u001b[0m\u001b[0;34m\u001b[0m\u001b[0m\n\u001b[0;32m--> 189\u001b[0;31m                 \u001b[0;32mawait\u001b[0m \u001b[0mself\u001b[0m\u001b[0;34m.\u001b[0m\u001b[0mgen\u001b[0m\u001b[0;34m.\u001b[0m\u001b[0mathrow\u001b[0m\u001b[0;34m(\u001b[0m\u001b[0mtyp\u001b[0m\u001b[0;34m,\u001b[0m \u001b[0mvalue\u001b[0m\u001b[0;34m,\u001b[0m \u001b[0mtraceback\u001b[0m\u001b[0;34m)\u001b[0m\u001b[0;34m\u001b[0m\u001b[0;34m\u001b[0m\u001b[0m\n\u001b[0m\u001b[1;32m    190\u001b[0m                 \u001b[0;32mraise\u001b[0m \u001b[0mRuntimeError\u001b[0m\u001b[0;34m(\u001b[0m\u001b[0;34m\"generator didn't stop after athrow()\"\u001b[0m\u001b[0;34m)\u001b[0m\u001b[0;34m\u001b[0m\u001b[0;34m\u001b[0m\u001b[0m\n\u001b[1;32m    191\u001b[0m             \u001b[0;32mexcept\u001b[0m \u001b[0mStopAsyncIteration\u001b[0m \u001b[0;32mas\u001b[0m \u001b[0mexc\u001b[0m\u001b[0;34m:\u001b[0m\u001b[0;34m\u001b[0m\u001b[0;34m\u001b[0m\u001b[0m\n",
      "\u001b[0;32m<ipython-input-62-c831b74d2ee4>\u001b[0m in \u001b[0;36mget_google_dispatcher\u001b[0;34m()\u001b[0m\n\u001b[1;32m      8\u001b[0m     \u001b[0;32mfinally\u001b[0m\u001b[0;34m:\u001b[0m\u001b[0;34m\u001b[0m\u001b[0;34m\u001b[0m\u001b[0m\n\u001b[1;32m      9\u001b[0m         \u001b[0;32mtry\u001b[0m\u001b[0;34m:\u001b[0m\u001b[0;34m\u001b[0m\u001b[0;34m\u001b[0m\u001b[0m\n\u001b[0;32m---> 10\u001b[0;31m             \u001b[0;32mawait\u001b[0m \u001b[0mgdisp\u001b[0m\u001b[0;34m.\u001b[0m\u001b[0mgen\u001b[0m\u001b[0;34m.\u001b[0m\u001b[0m__anext__\u001b[0m\u001b[0;34m(\u001b[0m\u001b[0;34m)\u001b[0m\u001b[0;34m\u001b[0m\u001b[0;34m\u001b[0m\u001b[0m\n\u001b[0m\u001b[1;32m     11\u001b[0m         \u001b[0;32mexcept\u001b[0m \u001b[0mStopAsyncIteration\u001b[0m\u001b[0;34m:\u001b[0m\u001b[0;34m\u001b[0m\u001b[0;34m\u001b[0m\u001b[0m\n\u001b[1;32m     12\u001b[0m             \u001b[0;32mpass\u001b[0m\u001b[0;34m\u001b[0m\u001b[0;34m\u001b[0m\u001b[0m\n",
      "\u001b[0;32m<ipython-input-62-c831b74d2ee4>\u001b[0m in \u001b[0;36mgenerator\u001b[0;34m(self)\u001b[0m\n\u001b[1;32m     20\u001b[0m         \u001b[0;32masync\u001b[0m \u001b[0;32mwith\u001b[0m \u001b[0mAiogoogle\u001b[0m\u001b[0;34m(\u001b[0m\u001b[0;34m)\u001b[0m \u001b[0;32mas\u001b[0m \u001b[0maiogoogle\u001b[0m\u001b[0;34m:\u001b[0m\u001b[0;34m\u001b[0m\u001b[0;34m\u001b[0m\u001b[0m\n\u001b[1;32m     21\u001b[0m             \u001b[0mrequest\u001b[0m \u001b[0;34m=\u001b[0m \u001b[0;32myield\u001b[0m \u001b[0;32mawait\u001b[0m \u001b[0maiogoogle\u001b[0m\u001b[0;34m.\u001b[0m\u001b[0mdiscover\u001b[0m\u001b[0;34m(\u001b[0m\u001b[0;34m\"youtube\"\u001b[0m\u001b[0;34m,\u001b[0m \u001b[0;34m\"v3\"\u001b[0m\u001b[0;34m)\u001b[0m\u001b[0;34m\u001b[0m\u001b[0;34m\u001b[0m\u001b[0m\n\u001b[0;32m---> 22\u001b[0;31m             \u001b[0muse_pagination\u001b[0m \u001b[0;34m=\u001b[0m \u001b[0mrequest\u001b[0m\u001b[0;34m.\u001b[0m\u001b[0mfull_res\u001b[0m\u001b[0;34m\u001b[0m\u001b[0;34m\u001b[0m\u001b[0m\n\u001b[0m\u001b[1;32m     23\u001b[0m             \u001b[0;32mif\u001b[0m \u001b[0;32mnot\u001b[0m \u001b[0muse_pagination\u001b[0m\u001b[0;34m:\u001b[0m\u001b[0;34m\u001b[0m\u001b[0;34m\u001b[0m\u001b[0m\n\u001b[1;32m     24\u001b[0m                 \u001b[0;32myield\u001b[0m \u001b[0;32mawait\u001b[0m \u001b[0maiogoogle\u001b[0m\u001b[0;34m.\u001b[0m\u001b[0mas_user\u001b[0m\u001b[0;34m(\u001b[0m\u001b[0mrequest\u001b[0m\u001b[0;34m)\u001b[0m\u001b[0;34m\u001b[0m\u001b[0;34m\u001b[0m\u001b[0m\n",
      "\u001b[0;31mAttributeError\u001b[0m: 'NoneType' object has no attribute 'full_res'"
     ]
    }
   ],
   "source": [
    "from contextlib import asynccontextmanager\n",
    "\n",
    "@asynccontextmanager\n",
    "async def get_google_dispatcher():\n",
    "    gdisp = GoogleAPIDispatcher()\n",
    "    try:\n",
    "        yield gdisp\n",
    "    finally:\n",
    "        try:\n",
    "            await gdisp.gen.__anext__()\n",
    "        except StopAsyncIteration:\n",
    "            pass\n",
    "\n",
    "class GoogleAPIDispatcher:\n",
    "    def __init__(self):\n",
    "        self.gen = self.generator()\n",
    "        \n",
    "    async def generator(self):\n",
    "        credentials = None # iykyk\n",
    "        async with Aiogoogle() as aiogoogle:\n",
    "            request = yield await aiogoogle.discover(\"youtube\", \"v3\")\n",
    "            use_pagination = request.full_res \n",
    "            if not use_pagination:\n",
    "                yield await aiogoogle.as_user(request)\n",
    "            else:\n",
    "                async for page in aiogoogle.as_user(request):\n",
    "                    yield page\n",
    "        \n",
    "    async def get_youtube_api(self):\n",
    "        return await self.gen.__anext__() # returns .discover\n",
    "    \n",
    "    async def execute(self, request, uses_pagination=False):\n",
    "        return await self.gen.asend(request, uses_pagination) # returns .as_user        \n",
    "\n",
    "async with get_google_dispatcher() as disp:\n",
    "    youtube_api = await disp.get_youtube_api()\n",
    "    request = youtube_api.playlists.list(\n",
    "        part=\"snippet\",\n",
    "        id=[1],\n",
    "        full_res=True,\n",
    "    )\n",
    "    response = await dispatcher.execute(request)\n",
    "    async for page in response:\n",
    "        print(page)"
   ]
  },
  {
   "cell_type": "code",
   "execution_count": 41,
   "metadata": {},
   "outputs": [
    {
     "ename": "AttributeError",
     "evalue": "'generator' object has no attribute 'youtube_api'",
     "output_type": "error",
     "traceback": [
      "\u001b[0;31m---------------------------------------------------------------------------\u001b[0m",
      "\u001b[0;31mAttributeError\u001b[0m                            Traceback (most recent call last)",
      "\u001b[0;32m<ipython-input-41-55ada04d0cf4>\u001b[0m in \u001b[0;36m<module>\u001b[0;34m\u001b[0m\n\u001b[0;32m----> 1\u001b[0;31m \u001b[0mprint\u001b[0m\u001b[0;34m(\u001b[0m\u001b[0mgen\u001b[0m\u001b[0;34m.\u001b[0m\u001b[0myoutube_api\u001b[0m\u001b[0;34m(\u001b[0m\u001b[0;34m)\u001b[0m\u001b[0;34m)\u001b[0m\u001b[0;34m\u001b[0m\u001b[0;34m\u001b[0m\u001b[0m\n\u001b[0m\u001b[1;32m      2\u001b[0m \u001b[0mgen\u001b[0m\u001b[0;34m.\u001b[0m\u001b[0mexecute\u001b[0m\u001b[0;34m(\u001b[0m\u001b[0;34m\"youtube_api.playlistItems.list\"\u001b[0m\u001b[0;34m)\u001b[0m\u001b[0;34m\u001b[0m\u001b[0;34m\u001b[0m\u001b[0m\n",
      "\u001b[0;31mAttributeError\u001b[0m: 'generator' object has no attribute 'youtube_api'"
     ]
    }
   ],
   "source": [
    "print(gen.youtube_api())\n",
    "gen.execute(\"youtube_api.playlistItems.list\")"
   ]
  }
 ],
 "metadata": {
  "kernelspec": {
   "display_name": "Python 3",
   "language": "python",
   "name": "python3"
  },
  "language_info": {
   "codemirror_mode": {
    "name": "ipython",
    "version": 3
   },
   "file_extension": ".py",
   "mimetype": "text/x-python",
   "name": "python",
   "nbconvert_exporter": "python",
   "pygments_lexer": "ipython3",
   "version": "3.8.3"
  }
 },
 "nbformat": 4,
 "nbformat_minor": 4
}
