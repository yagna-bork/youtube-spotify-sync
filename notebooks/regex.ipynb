{
 "cells": [
  {
   "cell_type": "code",
   "execution_count": 15,
   "metadata": {},
   "outputs": [],
   "source": [
    "import re\n",
    "import typing as t\n",
    "from collections import namedtuple"
   ]
  },
  {
   "cell_type": "code",
   "execution_count": 38,
   "metadata": {},
   "outputs": [
    {
     "data": {
      "text/plain": [
       "'Neopolitin - Guustavv | random'"
      ]
     },
     "execution_count": 38,
     "metadata": {},
     "output_type": "execute_result"
    }
   ],
   "source": [
    "timestamp = r\"(\\d{1,2}:)?\\d{1,2}:\\d\\d\"\n",
    "wrapped_timestamp = rf\"({timestamp})|(\\({timestamp}\\)|(\\[{timestamp}\\]))\"\n",
    "# 0:00 - title - unrelated link\n",
    "timestamp_first_multiple_seperator = rf\"({wrapped_timestamp})(?P<sep>( +- +)|( +\\| +)|(: +))(?P<title>.*?)(?P=sep)\"\n",
    "timestamp_first = rf\"({wrapped_timestamp})(( +- +)|( +\\| +)|(: +))(?P<title>.*)$\"\n",
    "timestamp_first_space_seperated = rf\"({wrapped_timestamp}) +(?P<title>.*?)\"\n",
    "title_first = rf\"(?P<title>.*)(( +- +)|( +\\| +)|(: +))(?P<ts>{wrapped_timestamp})$\"\n",
    "# non-space seperators don't work, have to assume last space if the seperator\n",
    "# hence this is to be later in order of formats tried\n",
    "title_first_space_seperated = rf\"(?P<title>.*) +(?P<ts>{wrapped_timestamp})$\" \n",
    "p = re.compile(timestamp_first)\n",
    "# todo: need to strip for /?\n",
    "p.match(\"00:00 | Neopolitin - Guustavv | random\").group(\"title\")"
   ]
  },
  {
   "cell_type": "code",
   "execution_count": 47,
   "metadata": {},
   "outputs": [],
   "source": [
    "YoutubeChapter = namedtuple(\"YoutubeChapter\", [\"start_timestamp\", \"title\"])\n",
    "def parse_chapter_information(line: str, format_to_use_idx=-1) -> t.Optional[t.Tuple[YoutubeChapter, int]]:\n",
    "    timestamp = r\"(\\d{1,2}:)?\\d{1,2}:\\d{1,2}\"\n",
    "    wrapped_ts = rf\"({timestamp})|(\\({timestamp}\\)|(\\[{timestamp}\\]))\"\n",
    "    ts_pattern = re.compile(wrapped_ts)\n",
    "    \n",
    "    if not ts_pattern.search(line):  # need atleast hint of timestamp to carry on \n",
    "        return\n",
    "\n",
    "    valid_formats = [\n",
    "        # 0:00 - title - unrelated link\n",
    "        re.compile(rf\"(?P<wrapped_ts>{wrapped_ts})(?P<sep>( +- +)|( +\\| +)|(: +))(?P<title>.*?)(?P=sep)\"),\n",
    "        re.compile(rf\"(?P<wrapped_ts>{wrapped_ts})(( +- +)|( +\\| +)|(: +))(?P<title>.*)$\"),\n",
    "        # non-space seperators don't work, have to assume last space if the seperator\n",
    "        # hence this is to be later in order of formats tried\n",
    "        re.compile(rf\"(?P<wrapped_ts>{wrapped_ts}) +(?P<title>.*)$\"),\n",
    "        re.compile(rf\"(?P<title>.*)(( +- +)|( +\\| +)|(: +))(?P<wrapped_ts>{wrapped_ts})$\"),\n",
    "        re.compile(rf\"(?P<title>.*) +(?P<wrapped_ts>{wrapped_ts})$\"),\n",
    "    ]\n",
    "    # using one format per description assumption for optimisation\n",
    "    valid_formats = valid_formats if format_to_use_idx == -1 else [valid_formats[format_to_use_idx]] \n",
    "    for idx, format_ in enumerate(valid_formats):\n",
    "        match = format_.match(line)\n",
    "        if match:\n",
    "            wrapped_ts, title = match.group(\"wrapped_ts\"), match.group(\"title\")\n",
    "            unwrapped_ts = ts_pattern.search(wrapped_ts).group(0)\n",
    "            youtube_chapter = YoutubeChapter(unwrapped_ts, title)\n",
    "            format_used_idx = idx if format_to_use_idx == -1 else format_to_use_idx\n",
    "            return youtube_chapter, format_used_idx\n",
    "    return\n",
    "\n",
    "def is_timestamp_at_start_of_video(timestamp):\n",
    "    hours_mins_secs = map(int, timestamp.split(\":\"))\n",
    "    return sum(hours_mins_secs)\n",
    "\n",
    "def parse_chapters_from_description(description) -> t.List[t.Tuple[str, str]]:\n",
    "    chapters = []\n",
    "    lines = description.split(\"\\n\")\n",
    "    parsing_format_to_use_idx = -1\n",
    "    for line in lines:\n",
    "        parsing_result = parse_chapter_information(line, parsing_format_to_use_idx)\n",
    "        if parsing_result:\n",
    "            youtube_chapter, format_used_idx = parsing_result\n",
    "            if len(chapters) == 0:\n",
    "                # youtube rules say first timestamp must start at 0:00 for chapters in description to be valid\n",
    "                if is_timestamp_at_start_of_video(youtube_chapter.start_timestamp):\n",
    "                    return []\n",
    "                else:\n",
    "                    parsing_format_to_use_idx = format_used_idx\n",
    "            chapters.append(youtube_chapter)\n",
    "    return chapters"
   ]
  },
  {
   "cell_type": "code",
   "execution_count": 54,
   "metadata": {},
   "outputs": [],
   "source": [
    "desc = 'Tracklist:\\n\\n1. Memento Mori Intro (I Love You) - 0:00\\n2. One Of Those Nights (Demo) - 01:05\\n3. Angel Face - 2:05\\n4. For Your Eyes - 3:05\\n5. Heavenly Creatures (These Girls) V2 - 8:32\\n6. Another One Of Me - 12:42\\n7. Money Power Glory (feat. Lana Del Rey) - 14:14\\n8. Heavenly Creatures V1 (Bonus) - 15:56\\n\\nEnjoy!\\n\\nMEMENTO MORI: Episode 9 - KISS LAND EDITION\\n\\n'\n",
    "desc2 = \"\\n・・ Dreamy・・\\n● Spotify : \\n→ https://open.spotify.com/user/6qxhced...\\n● Instagram :\\n→ https://www.instagram.com/its_dreamy_yt/\\n● Patreon ( Donate Support ) 🙏\\n→ https://www.patreon.com/m/its_dreamy\\n・・・・・・・・・・・・・・・・・・・・\\n❗ If you are the owner of the rights to this content \\nand against its use, please write to me : dre21amy@gmail.com\\n\\n👁Art by ilLUMI\\nhttps://twitter.com/illumi99999/statu...\\n                                         ilLUMI\\nhttps://www.instagram.com/illumi999/\\nhttps://twitter.com/illumi99999\\n\\n⭕Tracklist: \\n00:00 fantompower - blankets\\n         [ Chillhop Essentials Winter 2018 ]\\n02:52 mell-ø - deja vu \\n         [ A Fall Journey Beattape ]\\n04:49 High Noon Rush - Kane\\n07:21 lilac - last train home together\\n09:10 Nohone - Breath \\n         [ A Fall Journey Beattape ]\\n11:39 petunie - distant\\n13:38 tonnA - On The Phone\\n16:49 Philanthrope x Yasper - Slopes\\n         [ Chillhop Essentials Winter 2018 ]\\n19:41 trakeemovich - lifes a bitch\\n21:35 redrose - i miss the way u played\\n23:16 Ｎｅｒｏｋ -  I'm Saying Goodbye\\n25:33 Jay-Lounge - Breath Of Fresh Air\\n28:29 Kupla X j'san - Raindrops\\n\\n                             ⭕Artist:\\n                           fantompower\\nhttps://soundcloud.com/fantompower/bl...\\n                               mell-ø\\nhttps://soundcloud.com/mellomusicnl/d...\\n                         High Noon Rush\\nhttps://soundcloud.com/highnoonrush/kane\\n                                 lilac\\nhttps://soundcloud.com/dearlilac/last...\\n                             Nohone\\nhttps://soundcloud.com/nohone/breath-1\\n                              petunie\\nhttps://soundcloud.com/petuni-e/distant\\n                              tonnA \\nhttps://soundcloud.com/tonna_music/on...\\n                  Philanthrope x Yasper\\nhttps://soundcloud.com/chillhopdotcom...\\n                         trakeemovich\\nhttps://soundcloud.com/trakeemovich/l...\\n                             redrose\\nhttps://soundcloud.com/mostqualified/...\\n                          Jay-Lounge\\nhttps://soundcloud.com/jay-lounge/bre...\\n                          Kupla X j'san\\nhttps://soundcloud.com/kuplasound/kup...\\n\\n                           ⭕Record label's \\n        \\n☃️Chillhop Essentials Winter 2018\\n » https://chillhop.ffm.to/winter2018.itp\\n\\n💿   [ A Fall Journey Beattape ]\\nA Fall Journey by @retrojungle is now available everywhere and on Vinyl ! \\nGrab your vinyl here : qrates.com/projects/17391\\nSpotify https://open.spotify.com/album/30CEpv...\\n・・・・・・・・・・・・・・・・・・・・\\n❗ Any claims of copyright infringement :\\n✉ dre21amy@gmail.com\\n・・・・・・・・・・・・・・・・・・・・\\n📝 Submission :\\nMusic     https://soundcloud.com/its_dreamy\\nArt           dre21amy@gmail.com\\n・・・・・・・・・・・・・・・・・・・・\\n#Dreamy#lofi\\n\"\n",
    "desc3 = 'Stuck at home? Throw these lofi beats in the mix and vibe #withme. Get my Bel-Air hoodie here: http://belairathletics.com\\n\\n► SUBSCRIBE: https://goo.gl/BUjQW8\\n\\n► Created by Westbrook Media\\nhttp://westbrookinc.com\\n\\nExecutive Producers: Will Smith, Miguel Melendez\\nProducers: Aaron Ferguson, Lukas Kaiser, Key Williams, Brandon Scott Wolf \\nIllustrations: Ben Haist (https://instagram.com/bhaist)\\nEditor: Jeff Blank\\nAsst Editor: Parker Reininga\\nInspired By: ChilledCow\\n\\n► TRACK LIST:\\n00:00 | Neopolitin - Guustavv | https://spoti.fi/2vGuy3E\\n02:23 | Seaside Swing - Guustavv | https://spoti.fi/3aj8CuA\\n04:24 | Solarity - Guustavv | https://spoti.fi/33GUnx7\\n06:36 | Air Conditioning - Guustavv | https://spoti.fi/3bmNQdO\\n09:01 | Cityscape - Guustavv | https://spoti.fi/2wwHuJX\\n11:23 | Clouds Above - Guustavv | https://spoti.fi/39dXhL1\\n13:30 | Deprived - Guustavv | https://spoti.fi/3duLqvB\\n15:44 | Excursion - Dylan Sitts | https://spoti.fi/2WBE17o\\n18:18 | I Play Colors - Justnormal | https://spoti.fi/39hcZoy\\n20:37 | Isla Del Sol - Henyao | https://spoti.fi/3bpa131\\n22:54 | Lavander Fields - Guustavv | https://spoti.fi/3biVp55\\n25:08 | Odyssey - [ocean jams] | https://spoti.fi/3doPwoG\\n27:20 | One Time Again - Justnormal | https://spoti.fi/2QGJoOU\\n29:08 | Raining Snow - Guustavv | https://spoti.fi/2JaaAl5\\n31:20 | Soft Rain - Guustavv | https://spoti.fi/2wlS5aF\\n33:39 | Scootaloo - Jobii | https://spoti.fi/2xjZt6m\\n35:54 | Elysian - [ocean jams] | https://spoti.fi/2UbYWfR\\n38:15 | Float-[oceanjams] | https://spoti.fi/33ESlxq\\n40:18 | Gilded - [ocean jams] | https://spoti.fi/2JbbH48\\n42:23 | Leaves- [oceanjams] | https://spoti.fi/2UdIStZ\\n44:31 | Moln - Osoku | https://spoti.fi/2J9G0Ib\\n47:10 | Summer Rain - [ocean jams] | https://spoti.fi/2WE8P7u\\n49:19 | Surf - Osoku | https://spoti.fi/2QAE3ZB\\n51:46 | Spaced-[oceanjams] | https://spoti.fi/2UbreHf\\n54:23 | Neopolitin - Guustavv | https://spoti.fi/2vGuy3E\\n56:47 | Seaside Swing - Guustavv | https://spoti.fi/3aj8CuA\\n58:47 | Solarity - Guustavv | https://spoti.fi/33GUnx7\\n01:00:59 | Air Conditioning - Guustavv | https://spoti.fi/3bmNQdO\\n01:03:25 | Cityscape - Guustavv | https://spoti.fi/2wwHuJX\\n01:05:46 | Clouds Above - Guustavv | https://spoti.fi/39dXhL1\\n01:07:54 | Deprived - Guustavv | https://spoti.fi/3duLqvB\\n01:10:08 | Excursion - Dylan Sitts | https://spoti.fi/2WBE17o\\n01:12:41 | I Play Colors - Justnormal | https://spoti.fi/39hcZoy\\n01:15:01 | Isla Del Sol - Henyao | https://spoti.fi/3bpa131\\n01:17:18 | Lavander Fields - Guustavv | https://spoti.fi/3biVp55\\n01:19:31 | Odyssey - [ocean jams] | https://spoti.fi/3doPwoG\\n01:21:43 | One Time Again - Justnormal | https://spoti.fi/2QGJoOU\\n01:23:31 | Raining Snow - Guustavv | https://spoti.fi/2JaaAl5\\n01:25:43 | Soft Rain - Guustavv | https://spoti.fi/2wlS5aF\\n01:28:02 | Scootaloo - Jobii | https://spoti.fi/2xjZt6m\\n\\n#ChillBeats #LoFiBeats\\n\\n'"
   ]
  },
  {
   "cell_type": "code",
   "execution_count": 55,
   "metadata": {},
   "outputs": [
    {
     "name": "stdout",
     "output_type": "stream",
     "text": [
      "[YoutubeChapter(start_timestamp='0:00', title='1. Memento Mori Intro (I Love You)'), YoutubeChapter(start_timestamp='01:05', title='2. One Of Those Nights (Demo)'), YoutubeChapter(start_timestamp='2:05', title='3. Angel Face'), YoutubeChapter(start_timestamp='3:05', title='4. For Your Eyes'), YoutubeChapter(start_timestamp='8:32', title='5. Heavenly Creatures (These Girls) V2'), YoutubeChapter(start_timestamp='12:42', title='6. Another One Of Me'), YoutubeChapter(start_timestamp='14:14', title='7. Money Power Glory (feat. Lana Del Rey)'), YoutubeChapter(start_timestamp='15:56', title='8. Heavenly Creatures V1 (Bonus)')]\n"
     ]
    }
   ],
   "source": [
    "print(parse_chapters_from_description(desc))"
   ]
  },
  {
   "cell_type": "code",
   "execution_count": 118,
   "metadata": {},
   "outputs": [
    {
     "data": {
      "text/plain": [
       "'00:00'"
      ]
     },
     "execution_count": 118,
     "metadata": {},
     "output_type": "execute_result"
    }
   ],
   "source": [
    "timestamp = r\"(\\d{1,2}:)?\\d{1,2}:\\d{1,2}\"\n",
    "wrapped_timestamp = rf\"({timestamp})|(\\({timestamp}\\)|(\\[{timestamp}\\]))\"\n",
    "p = re.compile(timestamp)\n",
    "p.search(\"(:00:00)\").group(0)"
   ]
  },
  {
   "cell_type": "code",
   "execution_count": 7,
   "metadata": {},
   "outputs": [
    {
     "data": {
      "text/plain": [
       "True"
      ]
     },
     "execution_count": 7,
     "metadata": {},
     "output_type": "execute_result"
    }
   ],
   "source": [
    "timestamp = r\"(\\d{1,2}:)?\\d{1,2}:\\d{1,2}\"\n",
    "p = re.compile(timestamp)\n",
    "p.search(\"MEMENTO MORI: Episode 9 - KISS LAND EDITION\") is None"
   ]
  },
  {
   "cell_type": "code",
   "execution_count": null,
   "metadata": {},
   "outputs": [],
   "source": []
  }
 ],
 "metadata": {
  "kernelspec": {
   "display_name": "Python 3",
   "language": "python",
   "name": "python3"
  },
  "language_info": {
   "codemirror_mode": {
    "name": "ipython",
    "version": 3
   },
   "file_extension": ".py",
   "mimetype": "text/x-python",
   "name": "python",
   "nbconvert_exporter": "python",
   "pygments_lexer": "ipython3",
   "version": "3.8.3"
  }
 },
 "nbformat": 4,
 "nbformat_minor": 4
}
