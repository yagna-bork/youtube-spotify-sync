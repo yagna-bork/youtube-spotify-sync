{
 "cells": [
  {
   "cell_type": "code",
   "execution_count": 98,
   "metadata": {},
   "outputs": [
    {
     "data": {
      "text/plain": [
       "'Neopolitin - Guustavv | random'"
      ]
     },
     "execution_count": 98,
     "metadata": {},
     "output_type": "execute_result"
    }
   ],
   "source": [
    "import re\n",
    "timestamp = r\"(\\d{1,2}:)?\\d{1,2}:\\d{1,2}\"\n",
    "wrapped_timestamp = rf\"({timestamp})|(\\({timestamp}\\)|(\\[{timestamp}\\]))\"\n",
    "# 0:00 - title - unrelated link\n",
    "timestamp_first_multiple_seperator = rf\"({wrapped_timestamp})(?P<sep>( +- +)|( +\\| +)|(: +))(?P<title>.*?)(?P=sep)\"\n",
    "timestamp_first = rf\"({wrapped_timestamp})(( +- +)|( +\\| +)|(: +))(?P<title>.*)$\"\n",
    "timestamp_first_space_seperated = rf\"({wrapped_timestamp}) +(?P<title>.*?)\"\n",
    "title_first = rf\"(?P<title>.*)(( +- +)|( +\\| +)|(: +))(?P<ts>{wrapped_timestamp})$\"\n",
    "# non-space seperators don't work, have to assume last space if the seperator\n",
    "# hence this is to be later in order of formats tried\n",
    "title_first_space_seperated = rf\"(?P<title>.*) +(?P<ts>{wrapped_timestamp})$\" \n",
    "p = re.compile(timestamp_first)\n",
    "# todo: need to strip for /?\n",
    "p.match(\"00:00 | Neopolitin - Guustavv | random\").group(\"title\")"
   ]
  },
  {
   "cell_type": "code",
   "execution_count": 122,
   "metadata": {},
   "outputs": [
    {
     "name": "stdout",
     "output_type": "stream",
     "text": [
      "[('0:00', '1. Memento Mori Intro (I Love You)'), ('1:05', '2. One Of Those Nights (Demo)'), ('2:05', '3. Angel Face'), ('3:05', '4. For Your Eyes'), ('8:32', '5. Heavenly Creatures (These Girls) V2'), ('12:42', '6. Another One Of Me'), ('14:14', '7. Money Power Glory (feat. Lana Del Rey)'), ('15:56', '8. Heavenly Creatures V1 (Bonus)')]\n"
     ]
    }
   ],
   "source": [
    "def parse_chapter_information(line):\n",
    "    timestamp = r\"(\\d{1,2}:)?\\d{1,2}:\\d{1,2}\"\n",
    "    wrapped_timestamp = rf\"({timestamp})|(\\({timestamp}\\)|(\\[{timestamp}\\]))\"\n",
    "    valid_formats = [\n",
    "        # 0:00 - title - unrelated link\n",
    "        re.compile(rf\"(?P<wrapped_ts>{wrapped_timestamp})(?P<sep>( +- +)|( +\\| +)|(: +))(?P<title>.*?)(?P=sep)\"),\n",
    "        re.compile(rf\"(?P<wrapped_ts>{wrapped_timestamp})(( +- +)|( +\\| +)|(: +))(?P<title>.*)$\"),\n",
    "        # non-space seperators don't work, have to assume last space if the seperator\n",
    "        # hence this is to be later in order of formats tried\n",
    "        re.compile(rf\"(?P<wrapped_ts>{wrapped_timestamp}) +(?P<title>.*?)\"),\n",
    "        re.compile(rf\"(?P<title>.*)(( +- +)|( +\\| +)|(: +))(?P<wrapped_ts>{wrapped_timestamp})$\"),\n",
    "        re.compile(rf\"(?P<title>.*) +(?P<wrapped_ts>{wrapped_timestamp})$\"),\n",
    "    ]\n",
    "    for format_ in valid_formats:\n",
    "        match = format_.match(line)\n",
    "        if match:\n",
    "            wrapped_ts, title = match.group(\"wrapped_ts\"), match.group(\"title\")\n",
    "            ts_format = re.compile(timestamp)\n",
    "            ts = ts_format.search(wrapped_ts).group(0)\n",
    "            return ts, match.group(\"title\")\n",
    "    return None\n",
    "\n",
    "def parse_chapters_from_description(description):\n",
    "    chapters = []\n",
    "    for line in description.split(\"\\n\"):\n",
    "        chapter = parse_chapter_information(line)\n",
    "        if chapter:\n",
    "            # youtube rules say first timestamp must start at 0:00\n",
    "            if len(chapter) == 0 and chapter[0] != \"0:00\":\n",
    "                return []\n",
    "            chapters.append(chapter)\n",
    "    return chapters\n",
    "\n",
    "desc = 'Tracklist:\\n\\n1. Memento Mori Intro (I Love You) - 0:00\\n2. One Of Those Nights (Demo) - 1:05\\n3. Angel Face - 2:05\\n4. For Your Eyes - 3:05\\n5. Heavenly Creatures (These Girls) V2 - 8:32\\n6. Another One Of Me - 12:42\\n7. Money Power Glory (feat. Lana Del Rey) - 14:14\\n8. Heavenly Creatures V1 (Bonus) - 15:56\\n\\nEnjoy!\\n\\nMEMENTO MORI: Episode 9 - KISS LAND EDITION\\n\\n'\n",
    "print(parse_chapters_from_description(desc))"
   ]
  },
  {
   "cell_type": "code",
   "execution_count": 118,
   "metadata": {},
   "outputs": [
    {
     "data": {
      "text/plain": [
       "'00:00'"
      ]
     },
     "execution_count": 118,
     "metadata": {},
     "output_type": "execute_result"
    }
   ],
   "source": [
    "timestamp = r\"(\\d{1,2}:)?\\d{1,2}:\\d{1,2}\"\n",
    "wrapped_timestamp = rf\"({timestamp})|(\\({timestamp}\\)|(\\[{timestamp}\\]))\"\n",
    "p = re.compile(timestamp)\n",
    "p.search(\"(:00:00)\").group(0)"
   ]
  },
  {
   "cell_type": "code",
   "execution_count": null,
   "metadata": {},
   "outputs": [],
   "source": []
  }
 ],
 "metadata": {
  "kernelspec": {
   "display_name": "Python 3",
   "language": "python",
   "name": "python3"
  },
  "language_info": {
   "codemirror_mode": {
    "name": "ipython",
    "version": 3
   },
   "file_extension": ".py",
   "mimetype": "text/x-python",
   "name": "python",
   "nbconvert_exporter": "python",
   "pygments_lexer": "ipython3",
   "version": "3.8.3"
  }
 },
 "nbformat": 4,
 "nbformat_minor": 4
}
